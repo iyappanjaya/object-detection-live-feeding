{
 "cells": [
  {
   "cell_type": "markdown",
   "id": "b39356b9",
   "metadata": {},
   "source": [
    "# YOLO Object Detection on Live Camera Feed (Raspberry Pi Compatible)\n",
    "This notebook demonstrates how to run YOLO object detection on a live camera feed, with steps and code suitable for running on a Raspberry Pi."
   ]
  },
  {
   "cell_type": "markdown",
   "id": "2c4a5942",
   "metadata": {},
   "source": [
    "## 1. Install Required Libraries\n",
    "Install the necessary libraries for YOLO object detection and camera access. These commands are suitable for Raspberry Pi OS."
   ]
  },
  {
   "cell_type": "code",
   "execution_count": null,
   "id": "f32886ef",
   "metadata": {},
   "outputs": [],
   "source": [
    "# Install required libraries\n",
    "!pip install torch torchvision torchaudio --extra-index-url https://download.pytorch.org/whl/cpu\n",
    "!pip install opencv-python\n",
    "!pip install yolov5\n",
    "\n",
    "# For Raspberry Pi camera support, you may need to install additional packages:\n",
    "# !sudo apt-get update && sudo apt-get install python3-picamera\n",
    "# If using PiCamera, uncomment the above line and use 'picamera' library in code."
   ]
  },
  {
   "cell_type": "markdown",
   "id": "9716da05",
   "metadata": {},
   "source": [
    "## 2. Import Libraries\n",
    "Import all necessary Python libraries for YOLO object detection and camera access."
   ]
  },
  {
   "cell_type": "code",
   "execution_count": null,
   "id": "ae80f48d",
   "metadata": {},
   "outputs": [],
   "source": [
    "# Import required libraries\n",
    "import cv2\n",
    "import torch\n",
    "import numpy as np\n",
    "import time\n",
    "# If using PiCamera, import the following:\n",
    "# from picamera.array import PiRGBArray\n",
    "# from picamera import PiCamera"
   ]
  },
  {
   "cell_type": "markdown",
   "id": "3f7edf2e",
   "metadata": {},
   "source": [
    "## 3. Set Up Camera for Live Feed\n",
    "Initialize the camera using OpenCV. For Raspberry Pi, you may use the default camera index (0) or PiCamera for better performance."
   ]
  },
  {
   "cell_type": "code",
   "execution_count": null,
   "id": "0727d07a",
   "metadata": {},
   "outputs": [],
   "source": [
    "# Set up camera for live feed\n",
    "# For 3rd party USB camera, try index 1 (change if needed)\n",
    "camera = cv2.VideoCapture(1)\n",
    "\n",
    "# For Raspberry Pi Camera Module, use PiCamera (uncomment below if needed)\n",
    "# camera = PiCamera()\n",
    "# camera.resolution = (640, 480)\n",
    "# camera.framerate = 32\n",
    "# rawCapture = PiRGBArray(camera, size=(640, 480))\n",
    "\n",
    "# Test if camera opened successfully\n",
    "if not camera.isOpened():\n",
    "    print(\"Error: Could not open camera. Try changing the index (e.g., 0, 1, 2) to match your USB camera.\")\n",
    "else:\n",
    "    print(\"Camera initialized successfully (USB camera, index 1).\")"
   ]
  },
  {
   "cell_type": "markdown",
   "id": "0e501f4e",
   "metadata": {},
   "source": [
    "## 4. Load YOLO Model\n",
    "Load a pre-trained YOLO model (e.g., YOLOv5) using PyTorch. This example uses the ultralytics/yolov5 repository."
   ]
  },
  {
   "cell_type": "code",
   "execution_count": null,
   "id": "53b78cf8",
   "metadata": {},
   "outputs": [],
   "source": [
    "# Load YOLOv5 model\n",
    "# This will download the model if not already present\n",
    "model = torch.hub.load('ultralytics/yolov5', 'yolov5s', pretrained=True)\n",
    "model.eval()\n",
    "print(\"YOLOv5 model loaded.\")"
   ]
  },
  {
   "cell_type": "markdown",
   "id": "7f9e2fb5",
   "metadata": {},
   "source": [
    "## 5. Process Live Camera Feed and Detect Objects\n",
    "Capture frames from the camera, preprocess them, and run YOLO detection in a loop."
   ]
  },
  {
   "cell_type": "code",
   "execution_count": null,
   "id": "c72f179d",
   "metadata": {},
   "outputs": [],
   "source": [
    "# Process live camera feed and detect objects\n",
    "try:\n",
    "    while True:\n",
    "        ret, frame = camera.read()\n",
    "        if not ret:\n",
    "            print(\"Failed to grab frame\")\n",
    "            break\n",
    "        # YOLO expects RGB images\n",
    "        img = cv2.cvtColor(frame, cv2.COLOR_BGR2RGB)\n",
    "        results = model(img)\n",
    "        # results.xyxy[0] contains [x1, y1, x2, y2, confidence, class]\n",
    "        # We'll draw these in the next step\n",
    "        # Show frame with detections (see next cell)\n",
    "        # Press 'q' to exit\n",
    "        if cv2.waitKey(1) & 0xFF == ord('q'):\n",
    "            break\n",
    "except KeyboardInterrupt:\n",
    "    print(\"Interrupted by user.\")"
   ]
  },
  {
   "cell_type": "markdown",
   "id": "562bbe01",
   "metadata": {},
   "source": [
    "## 6. Display Detection Results in Real-Time\n",
    "Draw bounding boxes and labels on detected objects, and display the annotated video stream."
   ]
  },
  {
   "cell_type": "code",
   "execution_count": null,
   "id": "57a21011",
   "metadata": {},
   "outputs": [],
   "source": [
    "# Display detection results in real-time\n",
    "try:\n",
    "    while True:\n",
    "        ret, frame = camera.read()\n",
    "        if not ret:\n",
    "            print(\"Failed to grab frame\")\n",
    "            break\n",
    "        img = cv2.cvtColor(frame, cv2.COLOR_BGR2RGB)\n",
    "        results = model(img)\n",
    "        # Draw bounding boxes and labels\n",
    "        for *box, conf, cls in results.xyxy[0]:\n",
    "            x1, y1, x2, y2 = map(int, box)\n",
    "            label = f\"{model.names[int(cls)]} {conf:.2f}\"\n",
    "            cv2.rectangle(frame, (x1, y1), (x2, y2), (0,255,0), 2)\n",
    "            cv2.putText(frame, label, (x1, y1-10), cv2.FONT_HERSHEY_SIMPLEX, 0.5, (0,255,0), 2)\n",
    "        cv2.imshow('YOLO Live Detection', frame)\n",
    "        if cv2.waitKey(1) & 0xFF == ord('q'):\n",
    "            break\n",
    "except KeyboardInterrupt:\n",
    "    print(\"Interrupted by user.\")\n",
    "finally:\n",
    "    camera.release()\n",
    "    cv2.destroyAllWindows()"
   ]
  }
 ],
 "metadata": {
  "language_info": {
   "name": "python"
  }
 },
 "nbformat": 4,
 "nbformat_minor": 5
}
